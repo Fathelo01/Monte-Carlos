{
 "cells": [
  {
   "cell_type": "markdown",
   "id": "a5430c20",
   "metadata": {},
   "source": [
    "# Simulación de una Cadena de Markov en un Proceso de Acceso Aleatorio (RACH)"
   ]
  },
  {
   "cell_type": "markdown",
   "id": "0b879ec1",
   "metadata": {},
   "source": [
    "# Introducción\n",
    "Los modelos probabilísticos son herramientas fundamentales en la estadística y la ciencia de datos para representar procesos inciertos o aleatorios. Uno de los más utilizados en teoría de procesos estocásticos es la cadena de Markov, especialmente útil cuando se desea modelar una secuencia de eventos donde la probabilidad de transición entre estados depende únicamente del estado actual y no del historial previo. Cuando estos modelos incluyen estados absorbentes, representan escenarios donde una vez alcanzado cierto estado, el sistema ya no cambia más.\n",
    "\n",
    "En este proyecto, se analiza un modelo basado en una cadena de Markov finita con estados absorbentes que representa un proceso de hasta tres intentos por parte de un usuario para lograr un objetivo (por ejemplo, una autenticación, completar una compra, o transmitir un paquete en redes). En cada intento, el usuario tiene una probabilidad constante de éxito p = 0.6. Si no logra el éxito en los tres intentos permitidos, el proceso se considera como fallido.\n",
    "\n",
    "El objetivo del estudio es doble:\n",
    "\n",
    "Calcular de forma analítica las probabilidades de éxito y fracaso, así como el número esperado de intentos por usuario, utilizando teoría de cadenas de Markov.\n",
    "Realizar una simulación Monte Carlo con un millón de usuarios para estimar los mismos valores empíricamente y comparar los resultados con los obtenidos teóricamente."
   ]
  },
  {
   "cell_type": "code",
   "execution_count": 11,
   "id": "d306c8c7",
   "metadata": {},
   "outputs": [
    {
     "name": "stdout",
     "output_type": "stream",
     "text": [
      "=== CÁLCULO TEÓRICO ===\n",
      "Probabilidad de Éxito   : 0.936000\n",
      "Probabilidad de Fracaso : 0.064000\n",
      "Intentos Esperados      : 1.560000\n",
      "\n",
      "=== RESULTADOS SIMULADOS ===\n",
      "Probabilidad de Éxito   : 0.936063\n",
      "Probabilidad de Fracaso : 0.063937\n",
      "Intentos Promedio       : 1.559885\n"
     ]
    }
   ],
   "source": [
    "import numpy as np\n",
    "\n",
    "# =========================\n",
    "# PARÁMETROS DEL PROCESO\n",
    "# =========================\n",
    "\n",
    "# Probabilidad de éxito en un intento\n",
    "p_exito = 0.60\n",
    "p_fallo = 1 - p_exito\n",
    "\n",
    "# Estados:\n",
    "# S0, S1, S2 → transitorios (intentos)\n",
    "# S3 → absorbente (éxito)\n",
    "# S4 → absorbente (fracaso)\n",
    "\n",
    "# Construcción directa de matrices Q y R\n",
    "Q = np.array([\n",
    "    [0, p_fallo, 0],\n",
    "    [0, 0, p_fallo],\n",
    "    [0, 0, 0]\n",
    "])\n",
    "\n",
    "R = np.array([\n",
    "    [p_exito, 0],\n",
    "    [p_exito, 0],\n",
    "    [p_exito, p_fallo]\n",
    "])\n",
    "\n",
    "# =========================\n",
    "# ANÁLISIS MATEMÁTICO\n",
    "# =========================\n",
    "\n",
    "I = np.identity(3)\n",
    "N = np.linalg.inv(I - Q)        # Matriz fundamental\n",
    "absorcion = N @ R               # Probabilidades de absorción\n",
    "\n",
    "# Resultados desde el estado inicial S0\n",
    "prob_exito_teorica = absorcion[0, 0]\n",
    "prob_fallo_teorica = absorcion[0, 1]\n",
    "intentos_teoricos = N[0] @ np.ones(3)\n",
    "\n",
    "# =========================\n",
    "# SIMULACIÓN MONTE CARLO\n",
    "# =========================\n",
    "\n",
    "rng = np.random.default_rng(seed=123)\n",
    "num_pruebas = 1_000_000\n",
    "total_intentos = 0\n",
    "exitos = 0\n",
    "fracasos = 0\n",
    "\n",
    "# Función de intento por usuario\n",
    "def intento_usuario(prob_exito: float) -> int:\n",
    "    for i in range(1, 4):\n",
    "        if rng.random() < prob_exito:\n",
    "            return i  # Éxito en i-ésimo intento\n",
    "    return 0  # Fracaso después de 3 intentos\n",
    "\n",
    "# Ejecutar simulación para N usuarios\n",
    "for _ in range(num_pruebas):\n",
    "    resultado = intento_usuario(p_exito)\n",
    "    if resultado > 0:\n",
    "        exitos += 1\n",
    "        total_intentos += resultado\n",
    "    else:\n",
    "        fracasos += 1\n",
    "        total_intentos += 3\n",
    "\n",
    "# =========================\n",
    "# RESULTADOS FINALES\n",
    "# =========================\n",
    "\n",
    "print(\"=== CÁLCULO TEÓRICO ===\")\n",
    "print(f\"Probabilidad de Éxito   : {prob_exito_teorica:.6f}\")\n",
    "print(f\"Probabilidad de Fracaso : {prob_fallo_teorica:.6f}\")\n",
    "print(f\"Intentos Esperados      : {intentos_teoricos:.6f}\")\n",
    "\n",
    "print(\"\\n=== RESULTADOS SIMULADOS ===\")\n",
    "print(f\"Probabilidad de Éxito   : {exitos / num_pruebas:.6f}\")\n",
    "print(f\"Probabilidad de Fracaso : {fracasos / num_pruebas:.6f}\")\n",
    "print(f\"Intentos Promedio       : {total_intentos / num_pruebas:.6f}\")\n"
   ]
  },
  {
   "cell_type": "markdown",
   "id": "e04b7e9f",
   "metadata": {},
   "source": [
    "# Análisis del Código\n",
    "El código implementado para este estudio se divide en dos partes principales: el análisis analítico del proceso y la simulación por Monte Carlo.\n",
    "\n",
    "Parte 1: Cálculo Teórico con Cadena de Markov\n",
    "\n",
    "Se define primero la matriz de transición P, de tamaño 5x5, que contiene las probabilidades de moverse entre estados. Luego se extraen las submatrices:\n",
    "\n",
    "Q: Submatriz de tamaño 3x3 que representa las transiciones entre los estados transitorios (intentos).\n",
    "R: Submatriz de tamaño 3x2 que contiene las probabilidades de transición desde los estados transitorios hacia los estados absorbentes (éxito y fracaso).\n",
    "Se calcula la matriz fundamental N aplicando la fórmula matricial N = (I - Q)^-1. Esta matriz contiene en su fila 0 el número esperado de veces que el sistema pasa por cada uno de los estados transitorios si comienza en el primer intento.\n",
    "\n",
    "Posteriormente se calcula B = N @ R, que contiene la probabilidad de terminar en éxito o fracaso, partiendo de cada uno de los estados transitorios. El resultado más relevante es la primera fila de B, que indica la probabilidad de éxito y de fracaso si el usuario comienza desde el estado inicial (intento 1).\n",
    "\n",
    "Por último, se calcula el número esperado de intentos como t = N @ 1, donde 1 es un vector columna de unos. El primer valor de este vector representa el número promedio de intentos necesarios para que el proceso termine, comenzando desde el estado 0.\n",
    "\n",
    "Parte 2: Simulación Monte Carlo\n",
    "\n",
    "Se implementa una función que simula el proceso para un usuario. Esta función genera hasta tres números aleatorios y determina si alguno de ellos es menor que la probabilidad p, lo que representaría un intento exitoso. Si no se logra el éxito en los tres intentos, el proceso se clasifica como fracaso.\n",
    "\n",
    "Se realiza esta simulación para un millón de usuarios, acumulando el número total de intentos, la cantidad de éxitos y la cantidad de fracasos. Con estos valores se calculan las métricas deseadas:\n",
    "\n",
    "Probabilidad empírica de éxito: éxitos / total_usuarios\n",
    "Probabilidad empírica de fracaso: fracasos / total_usuarios\n",
    "Número promedio de intentos: total_intentos / total_usuarios\n",
    "Esta parte del código es eficiente y simple, y utiliza el generador de números aleatorios de NumPy con semilla (seed) para garantizar que los resultados puedan reproducirse.\n",
    "\n"
   ]
  },
  {
   "cell_type": "markdown",
   "id": "48387ca2",
   "metadata": {},
   "source": [
    "# Comparación de Resultados\n",
    "Los valores simulados son prácticamente idénticos a los valores teóricos, con una diferencia mínima atribuible a la variabilidad inherente de una simulación aleatoria, incluso con un número tan alto como un millón de muestras.\n",
    "\n",
    "Este nivel de coincidencia valida tanto el modelo teórico basado en la cadena de Markov como la implementación de la simulación. También demuestra que, para este tipo de procesos, las cadenas de Markov ofrecen una forma precisa y elegante de anticipar comportamientos sin necesidad de pruebas empíricas extensas."
   ]
  },
  {
   "cell_type": "markdown",
   "id": "707afddf",
   "metadata": {},
   "source": [
    "# Conclusión\n",
    "Este trabajo demuestra la utilidad y precisión de las cadenas de Markov con estados absorbentes para modelar procesos con intentos limitados y resultados binarios (éxito o fracaso). El análisis matemático permitió obtener de forma exacta las probabilidades de éxito y fracaso, así como el número esperado de intentos, sin necesidad de experimentar.\n",
    "\n",
    "Por otro lado, la simulación Monte Carlo sirvió como una herramienta práctica para validar los resultados analíticos y verificar el funcionamiento del modelo desde una perspectiva empírica. A pesar de ser un proceso aleatorio, la alta coincidencia entre los resultados demuestra que el número de simulaciones fue adecuado y que el sistema es confiable.\n",
    "\n",
    "Este tipo de modelado puede aplicarse en múltiples contextos reales como:\n",
    "\n",
    "Sistemas de autenticación con intentos limitados.\n",
    "Protocolos de retransmisión de datos en redes.\n",
    "Juegos de azar o experimentos de tipo Bernoulli con repetición limitada.\n",
    "Procesos de toma de decisiones donde los recursos (intentos) son finitos.\n",
    "En resumen, la combinación de teoría de Markov con simulación computacional es una herramienta poderosa para comprender y predecir el comportamiento de sistemas complejos, especialmente cuando estos tienen una estructura secuencial y probabilística claramente definida."
   ]
  }
 ],
 "metadata": {
  "kernelspec": {
   "display_name": "base",
   "language": "python",
   "name": "python3"
  },
  "language_info": {
   "codemirror_mode": {
    "name": "ipython",
    "version": 3
   },
   "file_extension": ".py",
   "mimetype": "text/x-python",
   "name": "python",
   "nbconvert_exporter": "python",
   "pygments_lexer": "ipython3",
   "version": "3.11.9"
  }
 },
 "nbformat": 4,
 "nbformat_minor": 5
}
